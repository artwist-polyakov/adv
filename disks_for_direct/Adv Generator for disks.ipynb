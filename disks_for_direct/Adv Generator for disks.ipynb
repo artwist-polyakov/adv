{
 "cells": [
  {
   "cell_type": "markdown",
   "metadata": {},
   "source": [
    "# Составим список всех возможных значений фильтра"
   ]
  },
  {
   "cell_type": "markdown",
   "metadata": {},
   "source": [
    "Список возможных значений для поля с диаметров отверстий спишем прям из фильтра с сайта, в нем нет никакой упорядоченности"
   ]
  },
  {
   "cell_type": "code",
   "execution_count": 1,
   "metadata": {},
   "outputs": [],
   "source": [
    "list_d_otverstiy = [98,100,105,\n",
    "                    108,110,112,\n",
    "                   114,114.3,115,118,120,127,130,139,139.7,150,160,170,180,205]"
   ]
  },
  {
   "cell_type": "markdown",
   "metadata": {},
   "source": [
    "Возможные варианты с отверстиями - это целые числа от 3 до 6. Так как функция range работает в пространстве [аргумент1;аргумент2), и не включает последний аргумент, то делаем диапазон от 3 до 7.\n",
    "\n",
    "Возможный список вариантов значений для количества отверстий поместим в лист через цикл."
   ]
  },
  {
   "cell_type": "code",
   "execution_count": 2,
   "metadata": {},
   "outputs": [],
   "source": [
    "list_otverstiy = [x for x in range(3,7)]"
   ]
  },
  {
   "cell_type": "markdown",
   "metadata": {},
   "source": [
    "Варианты ширины обода встречаются от 4.5 до 11 с шагом 0.5.\n",
    "\n",
    "Делаем такой же цикл, как в предыдущем пункте, но внутри range пробежимся по всем значениям, которые в 2 раза больше исходных. \n",
    "\n",
    "Не забываем, что range работает не включая идущий последним аргумент, поэтому, чтобы получить максимальное значение в списке 11, делаем второй аргумент в range 11*2+1 = 23"
   ]
  },
  {
   "cell_type": "code",
   "execution_count": 3,
   "metadata": {},
   "outputs": [],
   "source": [
    "list_shir_oboda = [0.5*x for x in range(9,23)]"
   ]
  },
  {
   "cell_type": "markdown",
   "metadata": {},
   "source": [
    "Варианты диаметра бывают от 13 до 22. Действуем по аналогии с предыдущими пунктами и создадим список возможных значений фильтра"
   ]
  },
  {
   "cell_type": "code",
   "execution_count": 4,
   "metadata": {},
   "outputs": [],
   "source": [
    "list_diametr = [x for x in range(13,23)]"
   ]
  },
  {
   "cell_type": "markdown",
   "metadata": {},
   "source": [
    "# Создадим лист с различными вариантами написания PCD"
   ]
  },
  {
   "cell_type": "code",
   "execution_count": 5,
   "metadata": {},
   "outputs": [],
   "source": [
    "list_pcd = []\n",
    "for i in list_otverstiy:\n",
    "    for j in list_d_otverstiy:\n",
    "        a = str(i)+'x'+str(j)\n",
    "        b = str(i)+'х'+str(j)\n",
    "        c = str(i)+' '+str(j)\n",
    "        list_pcd.append(a)\n",
    "        list_pcd.append(b)\n",
    "        list_pcd.append(c)"
   ]
  },
  {
   "cell_type": "markdown",
   "metadata": {},
   "source": [
    "# Создадим лист со всеми возможными комбинациями параметров\n",
    "Этот лист нужен нам для генерации ключевых фраз\n",
    "\n",
    "Варинаты параметров могут быть:\n",
    "\n",
    "1) PCD (просто одно значение)\n",
    "\n",
    "2) PCD + ширина обода\n",
    "\n",
    "3) PCD + диаметр\n",
    "\n",
    "4) PCD + ширина обода + диаметр\n",
    "\n",
    "5) Ширина обода + диаметр\n",
    "\n",
    "6) Ширина обода (одно значение) \n",
    "\n",
    "7) Диаметр (одно значение)"
   ]
  },
  {
   "cell_type": "code",
   "execution_count": 6,
   "metadata": {},
   "outputs": [
    {
     "name": "stdout",
     "output_type": "stream",
     "text": [
      "CPU times: user 3 µs, sys: 1 µs, total: 4 µs\n",
      "Wall time: 7.39 µs\n"
     ]
    }
   ],
   "source": [
    "%time\n",
    "list_pcd4 = []\n",
    "a = [1,2,3,4,5,6,7]   #просто готовый лист, чтобы промежуточные значения записывать в него\n",
    "for i in list_shir_oboda:\n",
    "    for k in list_diametr:\n",
    "        for j in list_pcd: # пустые значение будем записывать как ; - это разделитель, для колонок таблицы\n",
    "            a[0] = str(j)+';;'   # PCD (просто одно значение)\n",
    "            a[1] = str(j)+';'+str(i)+';' # PCD + ширина обода\n",
    "            a[2] = str(j)+';;'+str(k) # PCD + диаметр\n",
    "            a[3] = str(j)+';'+str(i)+';'+str(k) # PCD + ширина обода + диаметр\n",
    "            a[4] = ';'+str(i)+';'+str(k) #  Ширина обода + диаметр\n",
    "            a[5] = ';'+str(i)+';' # Ширина обода (одно значение) \n",
    "            a[6] = ';;'+str(k) # Диаметр (одно значение)\n",
    "            for x in a:\n",
    "                list_pcd4.append(x)"
   ]
  },
  {
   "cell_type": "markdown",
   "metadata": {},
   "source": [
    "Посмотрим сколько возможных комбинаций параметров у нас получилось"
   ]
  },
  {
   "cell_type": "code",
   "execution_count": 7,
   "metadata": {},
   "outputs": [
    {
     "data": {
      "text/plain": [
       "235200"
      ]
     },
     "execution_count": 7,
     "metadata": {},
     "output_type": "execute_result"
    }
   ],
   "source": [
    "len(list_pcd4) "
   ]
  },
  {
   "cell_type": "markdown",
   "metadata": {},
   "source": [
    "Всего получили 235 000 ключевых фраз. Немало. Перекинем их в датафрейм через служебный лист csv.\n",
    "В следующей редакции скрипта сделаю это через словарь."
   ]
  },
  {
   "cell_type": "code",
   "execution_count": 8,
   "metadata": {},
   "outputs": [
    {
     "name": "stdout",
     "output_type": "stream",
     "text": [
      "<class 'pandas.core.frame.DataFrame'>\n",
      "RangeIndex: 235200 entries, 0 to 235199\n",
      "Data columns (total 1 columns):\n",
      "col1    235200 non-null object\n",
      "dtypes: object(1)\n",
      "memory usage: 1.8+ MB\n"
     ]
    }
   ],
   "source": [
    "import pandas as pd\n",
    "df_1 = pd.DataFrame(data={\"col1\": list_pcd4})\n",
    "df_1.info()"
   ]
  },
  {
   "cell_type": "code",
   "execution_count": 9,
   "metadata": {},
   "outputs": [],
   "source": [
    "df_1.to_csv(\"list_pcd5.csv\", sep=',',index=False, encoding='utf-8')"
   ]
  },
  {
   "cell_type": "code",
   "execution_count": 10,
   "metadata": {},
   "outputs": [
    {
     "data": {
      "text/html": [
       "<div>\n",
       "<style scoped>\n",
       "    .dataframe tbody tr th:only-of-type {\n",
       "        vertical-align: middle;\n",
       "    }\n",
       "\n",
       "    .dataframe tbody tr th {\n",
       "        vertical-align: top;\n",
       "    }\n",
       "\n",
       "    .dataframe thead th {\n",
       "        text-align: right;\n",
       "    }\n",
       "</style>\n",
       "<table border=\"1\" class=\"dataframe\">\n",
       "  <thead>\n",
       "    <tr style=\"text-align: right;\">\n",
       "      <th></th>\n",
       "      <th>pcd</th>\n",
       "      <th>shirina</th>\n",
       "      <th>diametr</th>\n",
       "    </tr>\n",
       "  </thead>\n",
       "  <tbody>\n",
       "    <tr>\n",
       "      <th>0</th>\n",
       "      <td>3x98</td>\n",
       "      <td></td>\n",
       "      <td></td>\n",
       "    </tr>\n",
       "    <tr>\n",
       "      <th>1</th>\n",
       "      <td>3x98</td>\n",
       "      <td>4.5</td>\n",
       "      <td></td>\n",
       "    </tr>\n",
       "    <tr>\n",
       "      <th>2</th>\n",
       "      <td>3x98</td>\n",
       "      <td></td>\n",
       "      <td>13</td>\n",
       "    </tr>\n",
       "    <tr>\n",
       "      <th>3</th>\n",
       "      <td>3x98</td>\n",
       "      <td>4.5</td>\n",
       "      <td>13</td>\n",
       "    </tr>\n",
       "    <tr>\n",
       "      <th>4</th>\n",
       "      <td></td>\n",
       "      <td>4.5</td>\n",
       "      <td>13</td>\n",
       "    </tr>\n",
       "  </tbody>\n",
       "</table>\n",
       "</div>"
      ],
      "text/plain": [
       "    pcd shirina diametr\n",
       "0  3x98                \n",
       "1  3x98     4.5        \n",
       "2  3x98              13\n",
       "3  3x98     4.5      13\n",
       "4           4.5      13"
      ]
     },
     "execution_count": 10,
     "metadata": {},
     "output_type": "execute_result"
    }
   ],
   "source": [
    "df = pd.read_csv('list_pcd5.csv',sep=',',delimiter=';').reset_index().fillna('')\n",
    "df.columns = ['pcd','shirina','diametr']\n",
    "df.head()"
   ]
  },
  {
   "cell_type": "markdown",
   "metadata": {},
   "source": [
    "# Удалим повторяющиеся комбинации параметров\n",
    "\n",
    "На самом деле, из-за того, чтобы мы делали простые комбинации, а не перестановки параметров фильтра у нас получилось большое количество дубликато, которые надо удалить."
   ]
  },
  {
   "cell_type": "code",
   "execution_count": 11,
   "metadata": {},
   "outputs": [],
   "source": [
    "df['concat'] = df['pcd'].astype('str')+df['shirina'].astype('str')+'%'+df['diametr'].astype('str')\n",
    "df = df.drop_duplicates(subset='concat', keep=\"first\")"
   ]
  },
  {
   "cell_type": "code",
   "execution_count": 12,
   "metadata": {},
   "outputs": [],
   "source": [
    "df = df.drop(['concat'],axis = 1)"
   ]
  },
  {
   "cell_type": "markdown",
   "metadata": {},
   "source": [
    "# Переведём числовые колонки в строковый тип, чтобы не получать десятичные дроби в ключевых фразах и параметрах"
   ]
  },
  {
   "cell_type": "code",
   "execution_count": 13,
   "metadata": {},
   "outputs": [],
   "source": [
    "for i in df.columns:\n",
    "    df[i] = df[i].astype('str')"
   ]
  },
  {
   "cell_type": "code",
   "execution_count": 14,
   "metadata": {},
   "outputs": [],
   "source": [
    "df['diametr'] = [x[:-2] for x in df['diametr'].values] #уберём десятичную часть у праметров диаметра"
   ]
  },
  {
   "cell_type": "code",
   "execution_count": 15,
   "metadata": {},
   "outputs": [],
   "source": [
    "ls = [] #уберём десятичную часть у параметра ширины, если она целая\n",
    "for x in df['shirina'].values:\n",
    "    try:\n",
    "        if x[-1]=='0':\n",
    "            ls.append(x[:-2])\n",
    "        else:\n",
    "            ls.append(x)\n",
    "    except IndexError:\n",
    "        ls.append(x)\n",
    "df['shirina'] = ls\n",
    "    "
   ]
  },
  {
   "cell_type": "markdown",
   "metadata": {},
   "source": [
    "# Сгенерируем поисковые запросы\n",
    "\n",
    "При управлении кампаниями через XLS есть вариант, сразу создавать несколько вариантов ключевых фраз, если по ним не отличается ничего, кроме самой ключевой фразы.\n",
    "\n",
    "Например такими условиями можно закрывать все возможные варианты написания iphone xs:\n",
    "\n",
    "(iphone|айфон|ойфон) (xs|+x +s|икс эс|иксэс|хс|+х +с)\n",
    "\n",
    "Это более короткий вариант записи, чем перечислять 18 возможных комбинаций.\n",
    "Такой способ работает только при управлении через XLS, и не работает при импорте объявлений через Директ.Коммандер или веб-версию Яндекс.Директа.\n"
   ]
  },
  {
   "cell_type": "code",
   "execution_count": 16,
   "metadata": {},
   "outputs": [],
   "source": [
    "#Варианты запросов по-умолчанию (возле диаметра может быть буква R)\n",
    "\n",
    "df['zapros'] = '(Диски '+df['pcd']+' '+df['shirina']+\\\n",
    "' '+df['diametr']+'|Диски '+df['pcd']+' '+df['shirina']+\\\n",
    "' R'+df['diametr']+')'\n"
   ]
  },
  {
   "cell_type": "code",
   "execution_count": 17,
   "metadata": {},
   "outputs": [],
   "source": [
    "# если в поле с диаметром пусто, то не нужно выводить буквы R\n",
    "df.loc[df['diametr']=='','zapros'] =  'Диски '+df['pcd']+' '+df['shirina']+' '+\\\n",
    "                                   df['diametr']"
   ]
  },
  {
   "cell_type": "markdown",
   "metadata": {},
   "source": [
    "Сразу посмотрим на самую длинную поисковую фразу, чтобы понять, сколько символов у нас останется в шаблоне объявления."
   ]
  },
  {
   "cell_type": "code",
   "execution_count": 18,
   "metadata": {},
   "outputs": [
    {
     "name": "stdout",
     "output_type": "stream",
     "text": [
      "22\n"
     ]
    }
   ],
   "source": [
    "df['sluzh'] = 'Диски '+df['pcd'].astype('str')+' '+df['shirina'].astype('str')+' R'+\\\n",
    "                                   df['diametr'].astype('str')\n",
    "qwerty = df['sluzh'].tolist()\n",
    "qwerty  = [len(x) for x in qwerty]\n",
    "print(max(qwerty))"
   ]
  },
  {
   "cell_type": "markdown",
   "metadata": {},
   "source": [
    "##### Максимальная длина заголовка - 22 символа"
   ]
  },
  {
   "cell_type": "code",
   "execution_count": 19,
   "metadata": {},
   "outputs": [],
   "source": [
    "df = df.drop(['sluzh'],axis = 1) #удалили служебную колонку"
   ]
  },
  {
   "cell_type": "code",
   "execution_count": 20,
   "metadata": {},
   "outputs": [
    {
     "data": {
      "text/plain": [
       "75"
      ]
     },
     "execution_count": 20,
     "metadata": {},
     "output_type": "execute_result"
    }
   ],
   "source": [
    "len('Собственный склад. Более 10 000 колёсных дисков в наличии. На любой кошелёк') #измерили длину текстового описания"
   ]
  },
  {
   "cell_type": "markdown",
   "metadata": {},
   "source": [
    "# Сгенерируем все поля для объявлений"
   ]
  },
  {
   "cell_type": "code",
   "execution_count": null,
   "metadata": {},
   "outputs": [],
   "source": [
    "%%time\n",
    "df['title1'] = '#Диски# в наличии в Туле' #Заголовок 1\n",
    "df['title2'] = 'Шинный центр Автошина' #Заголовок 2\n",
    "df['description'] = 'Собственный склад. Более 10 000 колёсных дисков в наличии. На любой кошелёк.' #Текст объявления\n",
    "df['bs_title'] = 'Акции||Рассрочка||Контакты||Доставка ' #Заголовки быстрых ссылок, ссылки и описания\n",
    "df['bs_description'] = 'Актуальные спецпредложения||Процентная ставка 0%. Переплата 0%||Ждём Вас на ул. Рязанской ежедневно||Доставка курьером или самовывоз'\n",
    "df['bs_links'] = 'http://xn--e1afdpacvp7ap0b.xn--p1ai/actions&utm_source=yandex&utm_medium=cpc&utm_campaign=diski_po_razmery_poisk&utm_term={keyword}||http://xn--e1afdpacvp7ap0b.xn--p1ai/rassrochka?utm_source=yandex&utm_medium=cpc&utm_campaign=diski_po_razmery_poisk&utm_term={keyword}||http://xn--e1afdpacvp7ap0b.xn--p1ai/contacts?utm_source=yandex&utm_medium=cpc&utm_campaign=diski_po_razmery_poisk&utm_term={keyword}||http://xn--e1afdpacvp7ap0b.xn--p1ai/help/delivery?utm_source=yandex&utm_medium=cpc&utm_campaign=diski_po_razmery_poisk&utm_term={keyword}'\n",
    "df['addictions'] = 'Поиск по авто||Поиск по бренду||Поиск по размеру' #Дополнения\n",
    "\n",
    "ls = [] # Для генерации параметров получаем из колонки с PCD количество отверстий\n",
    "for x in df['pcd'].values:\n",
    "    try:\n",
    "        ls.append(x[0])\n",
    "    except IndexError:\n",
    "        ls.append(x)\n",
    "df['otverstiya'] = ls\n",
    "\n",
    "\n",
    "ls = [] # Для генерации параметров получаем из колонки с PCD диаметр отверстий\n",
    "for x in df['pcd'].values:\n",
    "    try:\n",
    "        ls.append(x[2:])\n",
    "    except IndexError:\n",
    "        ls.append(x)\n",
    "df['d_otvertiy'] = ls\n",
    "\n",
    "# изначально мы хотели сделать весь блок параметров в виде {param1}\n",
    "# но Яндекс.Директ преобразовывает все спецсимволы в Юникод\n",
    "# из-за чего сам фильтр переставал работать как набор get-параметров\n",
    "\n",
    "# пришлось генерировать ссылки с {param1} и {param2}\n",
    "# при этом параметры PCD мы подставляем в адрес ссылки напрямую, а не через динамические параметры URL\n",
    "df['link'] = 'http://xn--e1afdpacvp7ap0b.xn--p1ai/discs?tab=param&f[width]={param1}&f[diameter]={param2}&f[et]=&f[pcd_first]='+df['otverstiya']+'&f[pcd_second]='+df['d_otvertiy']+'&utm_source=yandex&utm_medium=cpc&utm_campaign=diski_po_razmery_poisk&utm_term={keyword}'\n",
    "\n",
    "df['param1'] = df['shirina'] # значения для {param1} и {param2}\n",
    "df['param2'] = df['diametr']\n",
    "df['price'] = 3.0 # цена за клик\n",
    "df['region'] = 'Тула' #регион\n",
    "#df['id'] = [1+x for x in range(df.shape[0])]\n",
    "#df['id2'] = [1 if '|' in x else 0 for x in df['zapros'].values]\n",
    "#df['id3'] = [sum(df['id2'].values[:(x+1)]) for x in range(len(df['id2'].values))]\n",
    "#df['id4'] = df['id']+df['id3']\n",
    "#df['group_ids'] = [(x+1)//100 for x in range(df.shape[0])]\n",
    "df=df.drop(['pcd','shirina','diametr','otverstiya','d_otvertiy'], axis = 1) #удалим служебюные поля\n",
    "\n",
    "#создадим служебный датафрейм сгруппированный по link\n",
    "#при помощи этого датафрейма сделаем нумерацию групп объявлений таким образом, \n",
    "# чтобы в одной группе было не более 200 ключевых слов\n",
    "# так как мы генерируем ключевые слова сразу по 2 штуки (с R и без)\n",
    "# в качестве аргумента для целочисленного деления используем 100\n",
    "\n",
    "df_sl = df.groupby(by='link',as_index=False).count().reset_index()[['index','link','zapros']]\n",
    "df_sl.columns = ['index','link','count']\n",
    "df = df.merge(df_sl,on='link')\n",
    "for i in df_sl['link'].values:\n",
    "    df.loc[df['link']==i,'count'] =  [str(df_sl[df_sl['link']==i].values[0][0])+'_'+str((x+1)//100) for x in range(df_sl[df_sl['link']==i].values[0][2])]\n",
    "df=df.drop(['index'], axis = 1) #убираем служемную колонку "
   ]
  },
  {
   "cell_type": "markdown",
   "metadata": {},
   "source": [
    "#### 19 секунд и рекламная кампания готова"
   ]
  },
  {
   "cell_type": "code",
   "execution_count": null,
   "metadata": {},
   "outputs": [],
   "source": [
    "df #посмотрим на данные"
   ]
  },
  {
   "cell_type": "markdown",
   "metadata": {},
   "source": [
    "## Выгрузим экспортный файл в CSV"
   ]
  },
  {
   "cell_type": "code",
   "execution_count": null,
   "metadata": {},
   "outputs": [],
   "source": [
    "df.to_csv(\"export_work.csv\", sep=',',index=False, encoding='utf-8')"
   ]
  },
  {
   "cell_type": "markdown",
   "metadata": {},
   "source": [
    "# Что дальше?\n",
    "\n",
    "#### Отрывем новую книгу в Excel.\n",
    "#### Переходим на вкладку с данными и нажимаем \"Внешние данные\" >> \"Из текста\".\n",
    "\n",
    "![Alt text](https://monosnap.com/image/04EpRPQvoxAaGQR1yjyKjYx2ZzxDvA.png)\n",
    "\n",
    "#### Выбираем созданный файл.\n",
    "\n",
    "![Alt text](https://monosnap.com/image/hGzxYgyJHShowvZtzXEX3vPJtDrLDx.png)\n",
    "\n",
    "#### Указываем, что в тексте есть разделители и выбираем кодировку UTF-8.\n",
    "\n",
    "![Alt text](https://monosnap.com/image/0o0axxJgcxP8awCCCO6xai8O3eFofH.png)\n",
    "\n",
    "#### В разделителях указываем \"Запятую\" \n",
    "\n",
    "![Alt text](https://monosnap.com/image/FQDwy15iXjFuooGa0mi8Y9sgURNtKL.png)\n",
    "\n",
    "#### Формат даннных \"Общий\" \n",
    "\n",
    "![Alt text](https://monosnap.com/image/KOfExyfTQNlOqZPE98UJetElO3Zuxv.png)\n",
    "\n",
    "#### После этого MS Excel подумает несколько секунд и создаст нам таблицу.\n",
    "\n",
    "Остаётся только перенести данные из таблицы в экспортный файл MS Excel и можно загружать рекламную кампанию.\n",
    "\n",
    "Если на счету недостаточно баллов, то можно попросить их у своего агентского менеджера в Яндексе.  Если же менеджер не достаточно добр - то загружать рекламные кампании придётся частями несколько дней."
   ]
  },
  {
   "cell_type": "code",
   "execution_count": null,
   "metadata": {},
   "outputs": [],
   "source": []
  }
 ],
 "metadata": {
  "kernelspec": {
   "display_name": "Python 3",
   "language": "python",
   "name": "python3"
  },
  "language_info": {
   "codemirror_mode": {
    "name": "ipython",
    "version": 3
   },
   "file_extension": ".py",
   "mimetype": "text/x-python",
   "name": "python",
   "nbconvert_exporter": "python",
   "pygments_lexer": "ipython3",
   "version": "3.6.5"
  }
 },
 "nbformat": 4,
 "nbformat_minor": 2
}
